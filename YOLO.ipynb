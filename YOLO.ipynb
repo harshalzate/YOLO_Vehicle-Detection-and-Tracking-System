{
  "nbformat": 4,
  "nbformat_minor": 0,
  "metadata": {
    "colab": {
      "private_outputs": true,
      "provenance": [],
      "gpuType": "T4"
    },
    "kernelspec": {
      "name": "python3",
      "display_name": "Python 3"
    },
    "language_info": {
      "name": "python"
    },
    "accelerator": "GPU"
  },
  "cells": [
    {
      "cell_type": "code",
      "execution_count": null,
      "metadata": {
        "id": "wHgRpKaQHIfY"
      },
      "outputs": [],
      "source": [
        "# !pip install ultralytics"
      ]
    },
    {
      "cell_type": "code",
      "source": [
        "import cv2\n",
        "from ultralytics import YOLO\n",
        "from collections import defaultdict\n",
        "\n",
        "# Load the YOLO model\n",
        "model = YOLO('yolo11l.pt')"
      ],
      "metadata": {
        "id": "nm1QcgXvIKPV"
      },
      "execution_count": null,
      "outputs": []
    },
    {
      "cell_type": "code",
      "source": [
        "class_list = model.names"
      ],
      "metadata": {
        "id": "S3D7_cxTIYQr"
      },
      "execution_count": null,
      "outputs": []
    },
    {
      "cell_type": "code",
      "source": [
        "# Open the video file\n",
        "cap = cv2.VideoCapture('/content/4.mp4')"
      ],
      "metadata": {
        "id": "bNuAqBsktxM-"
      },
      "execution_count": null,
      "outputs": []
    },
    {
      "cell_type": "code",
      "source": [
        "from google.colab.patches import cv2_imshow\n",
        "\n",
        "class_counts = defaultdict(int)\n",
        "crossed_ids = set()\n",
        "line_y_red = 430\n",
        "\n",
        "while cap.isOpened():\n",
        "  ret,frame = cap.read()\n",
        "  if not ret:\n",
        "    break\n",
        "\n",
        "  result = model.track(frame,persist = True)\n",
        "\n",
        "  if result[0].boxes.data is not None:\n",
        "    boxes = result[0].boxes.xyxy.cpu()\n",
        "    track_ids = result[0].boxes.id.int().cpu().tolist()\n",
        "    class_indices = result[0].boxes.cls.int().cpu().tolist()\n",
        "    confidences = result[0].boxes.conf.cpu()\n",
        "\n",
        "    cv2.line(frame, (690, line_y_red),(1130, line_y_red),(0,0,255),3)\n",
        "    # cv2.putText(frame, 'Red Line')\n",
        "\n",
        "\n",
        "  for box,track_id,class_idx, conf in zip(boxes, track_ids, class_indices, confidences):\n",
        "    x1,y1,x2,y2 = map(int,box)\n",
        "\n",
        "    cx = (x1 + x2)//2\n",
        "    cy = (y1 + y2)//2\n",
        "\n",
        "    class_name = class_list[class_idx]\n",
        "\n",
        "    cv2.circle(frame, (cx, cy),4, (0,0,255),-1)\n",
        "    cv2.putText(frame, f\"ID: {track_id} {class_name}\", (x1, y1-10),\n",
        "                cv2.FONT_HERSHEY_SIMPLEX, 0.6, (0,255,255),2)\n",
        "    cv2.rectangle(frame,(x1,y1),(x2,y2), (0,255,0),2)\n",
        "\n",
        "    if cy > line_y_red and track_id not in crossed_ids:\n",
        "      crossed_ids.add(track_id)\n",
        "      class_counts[class_name] +=1\n",
        "\n",
        "    # display the counts on the frame\n",
        "    y_offset = 30\n",
        "    for class_name, count in class_counts.items():\n",
        "      cv2.putText(frame, f\"{class_name}: {count}\", (50,y_offset),\n",
        "                  cv2.FONT_HERSHEY_SIMPLEX, 0.8, (0,255, 0),2)\n",
        "\n",
        "      y_offset+=30\n",
        "\n",
        "    cv2_imshow(frame)\n",
        "  if cv2.waitKey(0) & 0xFF == ord('q'):\n",
        "    break\n",
        "\n"
      ],
      "metadata": {
        "id": "nmsj7IBKD2hl"
      },
      "execution_count": null,
      "outputs": []
    }
  ]
}